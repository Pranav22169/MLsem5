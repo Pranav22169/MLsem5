{
 "cells": [
  {
   "cell_type": "code",
   "execution_count": 3,
   "id": "6cfb244d-231c-4b70-bd30-598edc3f2e96",
   "metadata": {},
   "outputs": [
    {
     "name": "stdin",
     "output_type": "stream",
     "text": [
      "enter the number of elements in  list:  6\n",
      "Enter element at index0:  2\n",
      "Enter element at index1:  7\n",
      "Enter element at index2:  4\n",
      "Enter element at index3:  1\n",
      "Enter element at index4:  3\n",
      "Enter element at index5:  6\n"
     ]
    },
    {
     "name": "stdout",
     "output_type": "stream",
     "text": [
      "made list is: [2, 7, 4, 1, 3, 6]\n",
      "number of pairs in list : 2\n"
     ]
    }
   ],
   "source": [
    "# 1\n",
    "def find_length(list1):\n",
    "    length = 0\n",
    "    for i in list1:\n",
    "        length += 1\n",
    "    return length\n",
    "\n",
    "def sum_pair10(list2):\n",
    "    length = find_length(list2)\n",
    "    count = 0\n",
    "    for i in range(length):\n",
    "        for j in range(i+1, length):\n",
    "            if (list2[i]) + (list2[j]) == 10: \n",
    "                count += 1\n",
    "    return count\n",
    "\n",
    "# Main part of the program\n",
    "n = int(input(\"enter the number of elements in  list: \"))\n",
    "for i in range(n):\n",
    "    element = int(input(f\"Enter element at index{i}: \"))\n",
    "    my_list[i] = element\n",
    "print(\"made list is:\", my_list)\n",
    "print(\"number of pairs in list :\", sum_pair10(my_list))\n"
   ]
  },
  {
   "cell_type": "code",
   "execution_count": 9,
   "id": "0a3b9fd8-5d6b-42c3-abc9-a0be5abbe729",
   "metadata": {},
   "outputs": [
    {
     "name": "stdin",
     "output_type": "stream",
     "text": [
      "Enter the number of elements in the list:  6\n",
      "Enter element at index 0:  5\n",
      "Enter element at index 1:  3\n",
      "Enter element at index 2:  8\n",
      "Enter element at index 3:  1\n",
      "Enter element at index 4:  0\n",
      "Enter element at index 5:  4\n"
     ]
    },
    {
     "name": "stdout",
     "output_type": "stream",
     "text": [
      "The range  is: 8.0\n"
     ]
    }
   ],
   "source": [
    "def find_length(list1):\n",
    "    length = 0\n",
    "    for i in list1:\n",
    "        length += 1\n",
    "    return length\n",
    "\n",
    "def length_check(length):\n",
    "    if length <= 3:\n",
    "        return 1\n",
    "    else:\n",
    "        return 0\n",
    "\n",
    "def find_range(list2):\n",
    "    if not list2:\n",
    "        return None  # Handle empty list case\n",
    "    \n",
    "    largest = list2[0]\n",
    "    smallest = list2[0]\n",
    "    length = find_length(list2)\n",
    "    \n",
    "    for i in range(1, length):\n",
    "        if list2[i] > largest:\n",
    "            largest = list2[i]\n",
    "        if list2[i] < smallest:\n",
    "            smallest = list2[i]\n",
    "    \n",
    "    x = largest - smallest\n",
    "    return x\n",
    "\n",
    "\n",
    "n = int(input(\"Enter the number of elements in the list: \"))\n",
    "my_list = [None] * n\n",
    "\n",
    "for i in range(n):\n",
    "    element = float(input(f\"Enter element at index {i}: \"))\n",
    "    my_list[i] = element\n",
    "if length_check(find_length(my_list)):\n",
    "    print(\"Range determination not possible\")\n",
    "else:\n",
    "    print(\"The range  is:\", find_range(my_list))\n"
   ]
  },
  {
   "cell_type": "code",
   "execution_count": null,
   "id": "7ebf3f7b-7cef-4d81-b525-f06b4f6dc73e",
   "metadata": {},
   "outputs": [],
   "source": [
    "def matrix_multiply(matrix1, matrix2):\n",
    "    size = len(matrix1)\n",
    "    product = []\n",
    "    for i in range(size):\n",
    "        row = [0] * size\n",
    "        product.append(row)\n",
    "    \n",
    "    for i in range(size):\n",
    "        for j in range(size):\n",
    "            for k in range(size):\n",
    "                product[i][j] += matrix1[i][k] * matrix2[k][j]\n",
    "    \n",
    "    return product\n",
    "\n",
    "def matrix_power(matrix, exponent):\n",
    "    size = len(matrix)\n",
    "    result = [[1 if i == j else 0 for j in range(size)] for i in range(size)]\n",
    "    temp_matrix = matrix\n",
    "    \n",
    "    while exponent > 0:\n",
    "        if exponent % 2 == 1:\n",
    "            result = matrix_multiply(result, temp_matrix)\n",
    "        temp_matrix = matrix_multiply(temp_matrix, temp_matrix)\n",
    "        exponent //= 2\n",
    "    \n",
    "    return result\n",
    "\n",
    "\n",
    "n = int(input(\"Enter the size of the square matrix: \"))\n",
    "matrix = []\n",
    "\n",
    "for i in range(n):\n",
    "    row = []\n",
    "    for j in range(n):\n",
    "        element = float(input(f\"Enter element at position ({i}, {j}): \"))\n",
    "        row.append(element)\n",
    "    matrix.append(row)\n",
    "\n",
    "exponent = int(input(\"Enter the power to which the matrix should be raised: \"))\n",
    "result = matrix_power(matrix, exponent)\n",
    "\n",
    "# Output the result\n",
    "for row in result:\n",
    "    print(row)\n"
   ]
  },
  {
   "cell_type": "code",
   "execution_count": null,
   "id": "d80d11d4-3b0e-4d7c-bedd-a8f08067f4ee",
   "metadata": {},
   "outputs": [],
   "source": [
    "def count_characters(s):\n",
    "    char_count = {}#empty dictionary\n",
    "    for char in s:\n",
    "        if char not in char_count:\n",
    "            char_count[char] = 1 #adding key value pairs to dictionary from string asalphabet and count of alphabet\n",
    "        else:\n",
    "            char_count[char] += 1 #updating count of alphabet when it is already there\n",
    "    max_char = None\n",
    "    count = 0\n",
    "    for char in char_count:\n",
    "        if char_count[char] > count:\n",
    "            max_char = char\n",
    "            count = char_count[char]\n",
    "    return max_char, count\n",
    "input_string = input(\"Enter a string: \")\n",
    "highest_char, highest_count = count_characters(input_string)\n",
    "print(\"The highest occurring character is:\", highest_char)\n",
    "print(\"The occurrence count is:\", highest_count)\n"
   ]
  }
 ],
 "metadata": {
  "kernelspec": {
   "display_name": "Python 3 (ipykernel)",
   "language": "python",
   "name": "python3"
  },
  "language_info": {
   "codemirror_mode": {
    "name": "ipython",
    "version": 3
   },
   "file_extension": ".py",
   "mimetype": "text/x-python",
   "name": "python",
   "nbconvert_exporter": "python",
   "pygments_lexer": "ipython3",
   "version": "3.10.7"
  }
 },
 "nbformat": 4,
 "nbformat_minor": 5
}
