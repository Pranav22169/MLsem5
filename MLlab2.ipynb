{
 "cells": [
  {
   "cell_type": "code",
   "execution_count": 6,
   "id": "b208e759-d492-48ff-80cb-18c9bd9bcfd3",
   "metadata": {},
   "outputs": [
    {
     "name": "stdout",
     "output_type": "stream",
     "text": [
      "Dimensionality = :  3\n",
      "No of vectors =  10\n",
      "Rank of matA:  3\n",
      "Cost of products: :\n",
      " - Candies: Rs: 1.00\n",
      " - Mangoes: Rs: 55.00\n",
      " - Milk Packets: Rs: 18.00\n"
     ]
    }
   ],
   "source": [
    "#A1\n",
    "import pandas as pd\n",
    "import numpy as np\n",
    "file_path = r\"C:\\Users\\prabi\\Downloads\\Lab Session Data.xlsx\"\n",
    "buying_data = pd.read_excel(file_path, sheet_name = 'Purchase data')\n",
    "matA = buying_data[['Candies (#)', 'Mangoes (Kg)', 'Milk Packets (#)']].dropna().values\n",
    "matC = buying_data['Payment (Rs)'].dropna().values\n",
    "dim = matA.shape[1]\n",
    "n_vec = matA.shape[0]\n",
    "rank = np.linalg.matrix_rank(matA)\n",
    "A_pseudo_inv = np.linalg.pinv(matA)\n",
    "matX = A_pseudo_inv @ matC\n",
    "\n",
    "print(\"Dimensionality = : \",dim)\n",
    "print(\"No of vectors = \",n_vec)\n",
    "print(\"Rank of matA: \",rank)\n",
    "print(\"Cost of products: :\")\n",
    "print(\" - Candies: Rs: {:.2f}\".format(matX[0]))\n",
    "print(\" - Mangoes: Rs: {:.2f}\".format(matX[1]))\n",
    "print(\" - Milk Packets: Rs: {:.2f}\".format(matX[2]))"
   ]
  },
  {
   "cell_type": "code",
   "execution_count": null,
   "id": "8a8c1f7f-a157-4f91-9682-8874ce2fc505",
   "metadata": {},
   "outputs": [],
   "source": []
  }
 ],
 "metadata": {
  "kernelspec": {
   "display_name": "Python 3 (ipykernel)",
   "language": "python",
   "name": "python3"
  },
  "language_info": {
   "codemirror_mode": {
    "name": "ipython",
    "version": 3
   },
   "file_extension": ".py",
   "mimetype": "text/x-python",
   "name": "python",
   "nbconvert_exporter": "python",
   "pygments_lexer": "ipython3",
   "version": "3.10.7"
  }
 },
 "nbformat": 4,
 "nbformat_minor": 5
}
